{
  "cells": [
    {
      "cell_type": "code",
      "execution_count": 61,
      "metadata": {
        "id": "2wpfcsi1tWHt"
      },
      "outputs": [],
      "source": [
        "import pandas as pd\n",
        "import numpy as np\n",
        "import matplotlib.pyplot as plt\n",
        "import seaborn as sns\n",
        "from sklearn.model_selection import train_test_split\n",
        "from sklearn.preprocessing import StandardScaler\n",
        "from sklearn.preprocessing import LabelEncoder\n",
        "from sklearn.decomposition import PCA\n",
        "from sklearn.ensemble import RandomForestClassifier\n",
        "from sklearn.feature_selection import SelectFromModel\n",
        "from tqdm import tqdm"
      ]
    },
    {
      "cell_type": "code",
      "execution_count": 2,
      "metadata": {
        "id": "jjeUu8_o52uW",
        "colab": {
          "base_uri": "https://localhost:8080/",
          "height": 106
        },
        "outputId": "f572581b-4f04-44d1-e822-e96e39f6acb1"
      },
      "outputs": [
        {
          "output_type": "display_data",
          "data": {
            "text/plain": [
              "<IPython.core.display.HTML object>"
            ],
            "text/html": [
              "\n",
              "     <input type=\"file\" id=\"files-a7dd2820-8e90-403e-ba8f-856788a25b59\" name=\"files[]\" multiple disabled\n",
              "        style=\"border:none\" />\n",
              "     <output id=\"result-a7dd2820-8e90-403e-ba8f-856788a25b59\">\n",
              "      Upload widget is only available when the cell has been executed in the\n",
              "      current browser session. Please rerun this cell to enable.\n",
              "      </output>\n",
              "      <script>// Copyright 2017 Google LLC\n",
              "//\n",
              "// Licensed under the Apache License, Version 2.0 (the \"License\");\n",
              "// you may not use this file except in compliance with the License.\n",
              "// You may obtain a copy of the License at\n",
              "//\n",
              "//      http://www.apache.org/licenses/LICENSE-2.0\n",
              "//\n",
              "// Unless required by applicable law or agreed to in writing, software\n",
              "// distributed under the License is distributed on an \"AS IS\" BASIS,\n",
              "// WITHOUT WARRANTIES OR CONDITIONS OF ANY KIND, either express or implied.\n",
              "// See the License for the specific language governing permissions and\n",
              "// limitations under the License.\n",
              "\n",
              "/**\n",
              " * @fileoverview Helpers for google.colab Python module.\n",
              " */\n",
              "(function(scope) {\n",
              "function span(text, styleAttributes = {}) {\n",
              "  const element = document.createElement('span');\n",
              "  element.textContent = text;\n",
              "  for (const key of Object.keys(styleAttributes)) {\n",
              "    element.style[key] = styleAttributes[key];\n",
              "  }\n",
              "  return element;\n",
              "}\n",
              "\n",
              "// Max number of bytes which will be uploaded at a time.\n",
              "const MAX_PAYLOAD_SIZE = 100 * 1024;\n",
              "\n",
              "function _uploadFiles(inputId, outputId) {\n",
              "  const steps = uploadFilesStep(inputId, outputId);\n",
              "  const outputElement = document.getElementById(outputId);\n",
              "  // Cache steps on the outputElement to make it available for the next call\n",
              "  // to uploadFilesContinue from Python.\n",
              "  outputElement.steps = steps;\n",
              "\n",
              "  return _uploadFilesContinue(outputId);\n",
              "}\n",
              "\n",
              "// This is roughly an async generator (not supported in the browser yet),\n",
              "// where there are multiple asynchronous steps and the Python side is going\n",
              "// to poll for completion of each step.\n",
              "// This uses a Promise to block the python side on completion of each step,\n",
              "// then passes the result of the previous step as the input to the next step.\n",
              "function _uploadFilesContinue(outputId) {\n",
              "  const outputElement = document.getElementById(outputId);\n",
              "  const steps = outputElement.steps;\n",
              "\n",
              "  const next = steps.next(outputElement.lastPromiseValue);\n",
              "  return Promise.resolve(next.value.promise).then((value) => {\n",
              "    // Cache the last promise value to make it available to the next\n",
              "    // step of the generator.\n",
              "    outputElement.lastPromiseValue = value;\n",
              "    return next.value.response;\n",
              "  });\n",
              "}\n",
              "\n",
              "/**\n",
              " * Generator function which is called between each async step of the upload\n",
              " * process.\n",
              " * @param {string} inputId Element ID of the input file picker element.\n",
              " * @param {string} outputId Element ID of the output display.\n",
              " * @return {!Iterable<!Object>} Iterable of next steps.\n",
              " */\n",
              "function* uploadFilesStep(inputId, outputId) {\n",
              "  const inputElement = document.getElementById(inputId);\n",
              "  inputElement.disabled = false;\n",
              "\n",
              "  const outputElement = document.getElementById(outputId);\n",
              "  outputElement.innerHTML = '';\n",
              "\n",
              "  const pickedPromise = new Promise((resolve) => {\n",
              "    inputElement.addEventListener('change', (e) => {\n",
              "      resolve(e.target.files);\n",
              "    });\n",
              "  });\n",
              "\n",
              "  const cancel = document.createElement('button');\n",
              "  inputElement.parentElement.appendChild(cancel);\n",
              "  cancel.textContent = 'Cancel upload';\n",
              "  const cancelPromise = new Promise((resolve) => {\n",
              "    cancel.onclick = () => {\n",
              "      resolve(null);\n",
              "    };\n",
              "  });\n",
              "\n",
              "  // Wait for the user to pick the files.\n",
              "  const files = yield {\n",
              "    promise: Promise.race([pickedPromise, cancelPromise]),\n",
              "    response: {\n",
              "      action: 'starting',\n",
              "    }\n",
              "  };\n",
              "\n",
              "  cancel.remove();\n",
              "\n",
              "  // Disable the input element since further picks are not allowed.\n",
              "  inputElement.disabled = true;\n",
              "\n",
              "  if (!files) {\n",
              "    return {\n",
              "      response: {\n",
              "        action: 'complete',\n",
              "      }\n",
              "    };\n",
              "  }\n",
              "\n",
              "  for (const file of files) {\n",
              "    const li = document.createElement('li');\n",
              "    li.append(span(file.name, {fontWeight: 'bold'}));\n",
              "    li.append(span(\n",
              "        `(${file.type || 'n/a'}) - ${file.size} bytes, ` +\n",
              "        `last modified: ${\n",
              "            file.lastModifiedDate ? file.lastModifiedDate.toLocaleDateString() :\n",
              "                                    'n/a'} - `));\n",
              "    const percent = span('0% done');\n",
              "    li.appendChild(percent);\n",
              "\n",
              "    outputElement.appendChild(li);\n",
              "\n",
              "    const fileDataPromise = new Promise((resolve) => {\n",
              "      const reader = new FileReader();\n",
              "      reader.onload = (e) => {\n",
              "        resolve(e.target.result);\n",
              "      };\n",
              "      reader.readAsArrayBuffer(file);\n",
              "    });\n",
              "    // Wait for the data to be ready.\n",
              "    let fileData = yield {\n",
              "      promise: fileDataPromise,\n",
              "      response: {\n",
              "        action: 'continue',\n",
              "      }\n",
              "    };\n",
              "\n",
              "    // Use a chunked sending to avoid message size limits. See b/62115660.\n",
              "    let position = 0;\n",
              "    do {\n",
              "      const length = Math.min(fileData.byteLength - position, MAX_PAYLOAD_SIZE);\n",
              "      const chunk = new Uint8Array(fileData, position, length);\n",
              "      position += length;\n",
              "\n",
              "      const base64 = btoa(String.fromCharCode.apply(null, chunk));\n",
              "      yield {\n",
              "        response: {\n",
              "          action: 'append',\n",
              "          file: file.name,\n",
              "          data: base64,\n",
              "        },\n",
              "      };\n",
              "\n",
              "      let percentDone = fileData.byteLength === 0 ?\n",
              "          100 :\n",
              "          Math.round((position / fileData.byteLength) * 100);\n",
              "      percent.textContent = `${percentDone}% done`;\n",
              "\n",
              "    } while (position < fileData.byteLength);\n",
              "  }\n",
              "\n",
              "  // All done.\n",
              "  yield {\n",
              "    response: {\n",
              "      action: 'complete',\n",
              "    }\n",
              "  };\n",
              "}\n",
              "\n",
              "scope.google = scope.google || {};\n",
              "scope.google.colab = scope.google.colab || {};\n",
              "scope.google.colab._files = {\n",
              "  _uploadFiles,\n",
              "  _uploadFilesContinue,\n",
              "};\n",
              "})(self);\n",
              "</script> "
            ]
          },
          "metadata": {}
        },
        {
          "output_type": "stream",
          "name": "stdout",
          "text": [
            "Saving X_train.txt to X_train.txt\n",
            "Saving y_train.txt to y_train.txt\n"
          ]
        }
      ],
      "source": [
        "# Upload the required files\n",
        "from google.colab import files\n",
        "files.upload()"
      ]
    },
    {
      "cell_type": "code",
      "execution_count": 116,
      "metadata": {
        "id": "coiqkSmRvRRM"
      },
      "outputs": [],
      "source": [
        "# Load the training set with a regular expression delimiter\n",
        "X_train_raw = pd.read_csv('/content/X_train.txt', delimiter=r'\\s+', header=None, engine='python')\n",
        "y_train_raw = pd.read_csv('/content/y_train.txt', header=None, names=['activity'])"
      ]
    },
    {
      "cell_type": "code",
      "source": [
        "X_test_raw = pd.read_csv('/content/X_test.txt', delimiter=r'\\s+', header=None, engine='python')\n",
        "y_test_raw = pd.read_csv('/content/y_test.txt', header=None, names=['activity'])"
      ],
      "metadata": {
        "id": "ucJi8ubW4pzK"
      },
      "execution_count": 117,
      "outputs": []
    },
    {
      "cell_type": "code",
      "execution_count": 118,
      "metadata": {
        "colab": {
          "base_uri": "https://localhost:8080/"
        },
        "id": "WVKbkcv51l63",
        "outputId": "427a8b6f-b625-4812-ae3f-3ec19d7e5db3"
      },
      "outputs": [
        {
          "output_type": "stream",
          "name": "stdout",
          "text": [
            "Missing values in X_train: 0\n",
            "Missing values in y_train: 0\n",
            "Missing values in X_test: 0\n",
            "Missing values in y_test: 0\n"
          ]
        }
      ],
      "source": [
        "# Check for missing values\n",
        "print(\"Missing values in X_train:\", X_train_raw.isnull().sum().sum())\n",
        "print(\"Missing values in y_train:\", y_train_raw.isnull().sum().sum())\n",
        "\n",
        "print(\"Missing values in X_test:\", X_test_raw.isnull().sum().sum())\n",
        "print(\"Missing values in y_test:\", y_test_raw.isnull().sum().sum())"
      ]
    },
    {
      "cell_type": "code",
      "execution_count": 119,
      "metadata": {
        "colab": {
          "base_uri": "https://localhost:8080/",
          "height": 533
        },
        "id": "YrNewqQTe-RH",
        "outputId": "255f686f-0071-4a84-b764-b068495efd3b"
      },
      "outputs": [
        {
          "output_type": "display_data",
          "data": {
            "text/plain": [
              "<Figure size 640x480 with 1 Axes>"
            ],
            "image/png": "[encoded data removed]"
          },
          "metadata": {}
        }
      ],
      "source": [
        "activity_labels = {0: 'WALKING', 1: 'WALKING_UPSTAIRS', 2: 'WALKING_DOWNSTAIRS', 3: 'SITTING', 4: 'STANDING', 5: 'LAYING'}\n",
        "y_train_plot = y_train_raw.copy()\n",
        "y_train_plot = y_train_plot['activity'].map(activity_labels)\n",
        "\n",
        "plt.title(\"Barplot of Activity (training data)\")\n",
        "sns.barplot(y = y_train_plot.value_counts().values , x = y_train_plot.value_counts().index)\n",
        "plt.xticks(rotation = 30)\n",
        "plt.show()"
      ]
    },
    {
      "cell_type": "code",
      "source": [
        "activity_labels = {0: 'WALKING', 1: 'WALKING_UPSTAIRS', 2: 'WALKING_DOWNSTAIRS', 3: 'SITTING', 4: 'STANDING', 5: 'LAYING'}\n",
        "y_test_plot = y_test_raw.copy()\n",
        "y_test_plot = y_test_plot['activity'].map(activity_labels)\n",
        "\n",
        "plt.title(\"Barplot of Activity (test data)\")\n",
        "sns.barplot(y = y_test_plot.value_counts().values , x = y_test_plot.value_counts().index)\n",
        "plt.xticks(rotation = 30)\n",
        "plt.show()"
      ],
      "metadata": {
        "colab": {
          "base_uri": "https://localhost:8080/",
          "height": 533
        },
        "id": "M_zSQAAW48td",
        "outputId": "58a54c78-405d-4b5b-8484-f38018c99a91"
      },
      "execution_count": 120,
      "outputs": [
        {
          "output_type": "display_data",
          "data": {
            "text/plain": [
              "<Figure size 640x480 with 1 Axes>"
            ],
            "image/png": "[encoded data removed]"
          },
          "metadata": {}
        }
      ]
    },
    {
      "cell_type": "code",
      "execution_count": 121,
      "metadata": {
        "id": "vasdrVyJ1tP2"
      },
      "outputs": [],
      "source": [
        "# Encode activity labels\n",
        "label_encoder = LabelEncoder()\n",
        "y_train_raw = pd.DataFrame(label_encoder.fit_transform(y_train_raw['activity']))\n",
        "y_test_raw = pd.DataFrame(label_encoder.fit_transform(y_test_raw['activity']))"
      ]
    },
    {
      "cell_type": "code",
      "execution_count": 122,
      "metadata": {
        "colab": {
          "base_uri": "https://localhost:8080/"
        },
        "id": "tgmlkixQ0gj_",
        "outputId": "c84eb0de-ad91-4c31-8bd9-f22a50a91ffe"
      },
      "outputs": [
        {
          "output_type": "stream",
          "name": "stdout",
          "text": [
            "X_train shape: (7352, 561)\n",
            "y_train shape: (7352, 1)\n",
            "X_test shape: (2947, 561)\n",
            "y_test shape: (2947, 1)\n"
          ]
        }
      ],
      "source": [
        "# Display the first few rows of the loaded data\n",
        "print(\"X_train shape:\", X_train_raw.shape)\n",
        "print(\"y_train shape:\", y_train_raw.shape)\n",
        "\n",
        "print(\"X_test shape:\", X_test_raw.shape)\n",
        "print(\"y_test shape:\", y_test_raw.shape)"
      ]
    },
    {
      "cell_type": "code",
      "execution_count": 123,
      "metadata": {
        "colab": {
          "base_uri": "https://localhost:8080/"
        },
        "id": "m8gre-suyUlC",
        "outputId": "454870e6-e1bc-4d1b-9994-a615b971a324"
      },
      "outputs": [
        {
          "output_type": "stream",
          "name": "stdout",
          "text": [
            "               0            1            2            3            4    \\\n",
            "count  7352.000000  7352.000000  7352.000000  7352.000000  7352.000000   \n",
            "mean      0.274488    -0.017695    -0.109141    -0.605438    -0.510938   \n",
            "std       0.070261     0.040811     0.056635     0.448734     0.502645   \n",
            "min      -1.000000    -1.000000    -1.000000    -1.000000    -0.999873   \n",
            "25%       0.262975    -0.024863    -0.120993    -0.992754    -0.978129   \n",
            "50%       0.277193    -0.017219    -0.108676    -0.946196    -0.851897   \n",
            "75%       0.288461    -0.010783    -0.097794    -0.242813    -0.034231   \n",
            "max       1.000000     1.000000     1.000000     1.000000     0.916238   \n",
            "\n",
            "               5            6            7            8            9    ...  \\\n",
            "count  7352.000000  7352.000000  7352.000000  7352.000000  7352.000000  ...   \n",
            "mean     -0.604754    -0.630512    -0.526907    -0.606150    -0.468604  ...   \n",
            "std       0.418687     0.424073     0.485942     0.414122     0.544547  ...   \n",
            "min      -1.000000    -1.000000    -1.000000    -1.000000    -1.000000  ...   \n",
            "25%      -0.980233    -0.993591    -0.978162    -0.980251    -0.936219  ...   \n",
            "50%      -0.859365    -0.950709    -0.857328    -0.857143    -0.881637  ...   \n",
            "75%      -0.262415    -0.292680    -0.066701    -0.265671    -0.017129  ...   \n",
            "max       1.000000     1.000000     0.967664     1.000000     1.000000  ...   \n",
            "\n",
            "               551          552          553          554          555  \\\n",
            "count  7352.000000  7352.000000  7352.000000  7352.000000  7352.000000   \n",
            "mean      0.125293    -0.307009    -0.625294     0.008684     0.002186   \n",
            "std       0.250994     0.321011     0.307584     0.336787     0.448306   \n",
            "min      -1.000000    -0.995357    -0.999765    -0.976580    -1.000000   \n",
            "25%      -0.023692    -0.542602    -0.845573    -0.121527    -0.289549   \n",
            "50%       0.134000    -0.343685    -0.711692     0.009509     0.008943   \n",
            "75%       0.289096    -0.126979    -0.503878     0.150865     0.292861   \n",
            "max       0.946700     0.989538     0.956845     1.000000     1.000000   \n",
            "\n",
            "               556          557          558          559          560  \n",
            "count  7352.000000  7352.000000  7352.000000  7352.000000  7352.000000  \n",
            "mean      0.008726    -0.005981    -0.489547     0.058593    -0.056515  \n",
            "std       0.608303     0.477975     0.511807     0.297480     0.279122  \n",
            "min      -1.000000    -1.000000    -1.000000    -1.000000    -1.000000  \n",
            "25%      -0.482273    -0.376341    -0.812065    -0.017885    -0.143414  \n",
            "50%       0.008735    -0.000368    -0.709417     0.182071     0.003181  \n",
            "75%       0.506187     0.359368    -0.509079     0.248353     0.107659  \n",
            "max       0.998702     0.996078     1.000000     0.478157     1.000000  \n",
            "\n",
            "[8 rows x 561 columns]\n",
            "<class 'pandas.core.frame.DataFrame'>\n",
            "RangeIndex: 7352 entries, 0 to 7351\n",
            "Columns: 561 entries, 0 to 560\n",
            "dtypes: float64(561)\n",
            "memory usage: 31.5 MB\n",
            "None\n"
          ]
        }
      ],
      "source": [
        "# Basic statistics and information about the dataset\n",
        "print(X_train_raw.describe())\n",
        "print(X_train_raw.info())"
      ]
    },
    {
      "cell_type": "code",
      "source": [
        "print(X_test_raw.describe())\n",
        "print(X_test_raw.info())"
      ],
      "metadata": {
        "colab": {
          "base_uri": "https://localhost:8080/"
        },
        "id": "9fJlptTp5Xe3",
        "outputId": "852e0edf-6edf-401a-df8d-8dbd9423b7e0"
      },
      "execution_count": 124,
      "outputs": [
        {
          "output_type": "stream",
          "name": "stdout",
          "text": [
            "               0            1            2            3            4    \\\n",
            "count  2947.000000  2947.000000  2947.000000  2947.000000  2947.000000   \n",
            "mean      0.273996    -0.017863    -0.108386    -0.613635    -0.508330   \n",
            "std       0.060570     0.025745     0.042747     0.412597     0.494269   \n",
            "min      -0.592004    -0.362884    -0.576184    -0.999606    -1.000000   \n",
            "25%       0.262075    -0.024961    -0.121162    -0.990914    -0.973664   \n",
            "50%       0.277113    -0.016967    -0.108458    -0.931214    -0.790972   \n",
            "75%       0.288097    -0.010143    -0.097123    -0.267395    -0.105919   \n",
            "max       0.671887     0.246106     0.494114     0.465299     1.000000   \n",
            "\n",
            "               5            6            7            8            9    ...  \\\n",
            "count  2947.000000  2947.000000  2947.000000  2947.000000  2947.000000  ...   \n",
            "mean     -0.633797    -0.641278    -0.522676    -0.637038    -0.462063  ...   \n",
            "std       0.362699     0.385199     0.479899     0.357753     0.523916  ...   \n",
            "min      -0.998955    -0.999417    -0.999914    -0.998899    -0.952357  ...   \n",
            "25%      -0.976122    -0.992333    -0.974131    -0.975352    -0.934447  ...   \n",
            "50%      -0.827534    -0.937664    -0.799907    -0.817005    -0.852659  ...   \n",
            "75%      -0.311432    -0.321719    -0.133488    -0.322771    -0.009965  ...   \n",
            "max       0.489703     0.439657     1.000000     0.427958     0.786436  ...   \n",
            "\n",
            "               551          552          553          554          555  \\\n",
            "count  2947.000000  2947.000000  2947.000000  2947.000000  2947.000000   \n",
            "mean      0.130236    -0.277593    -0.598756     0.005264     0.003799   \n",
            "std       0.231018     0.317245     0.311042     0.336147     0.445077   \n",
            "min      -0.785543    -1.000000    -1.000000    -1.000000    -0.993402   \n",
            "25%      -0.008433    -0.517494    -0.829593    -0.130541    -0.282600   \n",
            "50%       0.142676    -0.311023    -0.683672     0.005188     0.006767   \n",
            "75%       0.288320    -0.083559    -0.458332     0.146200     0.288113   \n",
            "max       1.000000     1.000000     1.000000     0.998898     0.986347   \n",
            "\n",
            "               556          557          558          559          560  \n",
            "count  2947.000000  2947.000000  2947.000000  2947.000000  2947.000000  \n",
            "mean      0.040029    -0.017298    -0.513923     0.074886    -0.048720  \n",
            "std       0.634989     0.501311     0.509205     0.324300     0.241467  \n",
            "min      -0.998898    -0.991096    -0.984195    -0.913704    -0.949228  \n",
            "25%      -0.518924    -0.428375    -0.829722     0.022140    -0.098485  \n",
            "50%       0.047113    -0.026726    -0.729648     0.181563    -0.010671  \n",
            "75%       0.622151     0.394387    -0.545939     0.260252     0.092373  \n",
            "max       1.000000     1.000000     0.833180     1.000000     0.973113  \n",
            "\n",
            "[8 rows x 561 columns]\n",
            "<class 'pandas.core.frame.DataFrame'>\n",
            "RangeIndex: 2947 entries, 0 to 2946\n",
            "Columns: 561 entries, 0 to 560\n",
            "dtypes: float64(561)\n",
            "memory usage: 12.6 MB\n",
            "None\n"
          ]
        }
      ]
    },
    {
      "cell_type": "code",
      "execution_count": 125,
      "metadata": {
        "id": "4BLaVv5Z0nxU"
      },
      "outputs": [],
      "source": [
        "# Standardize the features using StandardScaler\n",
        "scaler = StandardScaler()\n",
        "\n",
        "X_train_scaled = pd.DataFrame(scaler.fit_transform(X_train_raw))\n",
        "\n",
        "X_test_scaled = pd.DataFrame(scaler.fit_transform(X_test_raw))"
      ]
    },
    {
      "cell_type": "code",
      "execution_count": 126,
      "metadata": {
        "colab": {
          "base_uri": "https://localhost:8080/"
        },
        "id": "CIUBYzL600Ee",
        "outputId": "7f492689-2198-4bd1-fe69-cb93b9271a40"
      },
      "outputs": [
        {
          "output_type": "stream",
          "name": "stdout",
          "text": [
            "X_train_scaled shape: (7352, 561)\n",
            "X_val_scaled shape: (2947, 561)\n",
            "y_train shape: (7352, 1)\n",
            "y_val shape: (2947, 1)\n"
          ]
        }
      ],
      "source": [
        "# Display the shapes of the preprocessed data\n",
        "print(\"X_train_scaled shape:\", X_train_scaled.shape)\n",
        "print(\"X_val_scaled shape:\", X_test_scaled.shape)\n",
        "\n",
        "print(\"y_train shape:\", y_train_raw.shape)\n",
        "print(\"y_val shape:\", y_test_raw.shape)"
      ]
    },
    {
      "cell_type": "markdown",
      "source": [
        "## PCA"
      ],
      "metadata": {
        "id": "tp7mj9VC0Cyh"
      }
    },
    {
      "cell_type": "code",
      "execution_count": 127,
      "metadata": {
        "id": "sBiKW2yu-xGq"
      },
      "outputs": [],
      "source": [
        "from sklearn.decomposition import PCA\n",
        "\n",
        "pca = PCA(n_components=0.95)  # for example, to keep 95% of variance\n",
        "X_train_pca = pca.fit_transform(X_train_scaled)\n",
        "X_test_pca = pca.transform(X_test_scaled)"
      ]
    },
    {
      "cell_type": "markdown",
      "metadata": {
        "id": "vKlq-gvXA2h7"
      },
      "source": [
        "**MODELS**"
      ]
    },
    {
      "cell_type": "markdown",
      "source": [
        "## Gaussian Naive Bayes"
      ],
      "metadata": {
        "id": "9rMRZv24liL-"
      }
    },
    {
      "cell_type": "code",
      "execution_count": 128,
      "metadata": {
        "id": "p85jTFbbI2rl"
      },
      "outputs": [],
      "source": [
        "class GaussianNaiveBayes:\n",
        "\n",
        "    def __init__(self, data, target) -> None:\n",
        "        self.data = data\n",
        "        # Ensure target is a 1D array for correct boolean indexing\n",
        "        # Convert target to numpy array if it's a DataFrame\n",
        "        if isinstance(target, pd.DataFrame) or isinstance(target, pd.Series):\n",
        "            self.target = target.values.flatten()\n",
        "        else:\n",
        "            self.target = target.flatten() if len(target.shape) > 1 else target\n",
        "\n",
        "    def gaussian(self, X, mean, std):\n",
        "        # Calculate the Gaussian probability of X given the mean and standard deviation.\n",
        "        exponent = np.exp(-(X - mean)**2 / (2 * std**2))\n",
        "        return exponent / (np.sqrt(2 * np.pi) * std)\n",
        "\n",
        "    def gaussian_fit(self, X):\n",
        "        # Compute the mean and standard deviation for the Gaussian Naive Bayes model.\n",
        "        return X.mean(axis=0), X.std(axis=0)\n",
        "\n",
        "    def fit(self):\n",
        "        unique_classes, counts = np.unique(self.target, return_counts=True)\n",
        "        self.classes = {label: idx for idx, label in enumerate(unique_classes)}\n",
        "        self.prior = counts / counts.sum()\n",
        "        self.pdf_data = {label: self.gaussian_fit(self.data[self.target == label]) for label in unique_classes}\n",
        "\n",
        "    def predict(self, X):\n",
        "        y_pred = []\n",
        "        for x_data in X:\n",
        "            scores = {}\n",
        "            for label, idx in self.classes.items():\n",
        "                mean_list, std_list = self.pdf_data[label]\n",
        "                likelihood = np.prod(self.gaussian(x_data, mean_list, std_list))\n",
        "                posterior = likelihood * self.prior[idx]\n",
        "                scores[label] = posterior\n",
        "            y_pred.append(max(scores, key=scores.get))\n",
        "        return np.array(y_pred)\n",
        "\n",
        "    def compute_metrics(self, y_true, y_pred):\n",
        "    # Convert y_true and y_pred to numpy arrays if they are Pandas DataFrame/Series\n",
        "        if isinstance(y_true, pd.DataFrame) or isinstance(y_true, pd.Series):\n",
        "            y_true = y_true.values\n",
        "        if isinstance(y_pred, pd.DataFrame) or isinstance(y_pred, pd.Series):\n",
        "            y_pred = y_pred.values\n",
        "\n",
        "    # Ensure both y_true and y_pred are 1D arrays\n",
        "        y_true = y_true.flatten()\n",
        "        y_pred = y_pred.flatten()\n",
        "\n",
        "    # Initialize and populate the confusion matrix\n",
        "        unique_labels = np.unique(np.concatenate([y_true, y_pred]))\n",
        "        conf_matrix = np.zeros((len(unique_labels), len(unique_labels)), dtype=int)\n",
        "        label_to_index = {label: index for index, label in enumerate(unique_labels)}\n",
        "\n",
        "        for true, pred in zip(y_true, y_pred):\n",
        "            true_index = label_to_index[true]\n",
        "            pred_index = label_to_index[pred]\n",
        "            conf_matrix[true_index, pred_index] += 1\n",
        "\n",
        "        # Calculate overall metrics\n",
        "        metrics = self.calculate_overall_metrics(conf_matrix, unique_labels)\n",
        "        return metrics\n",
        "\n",
        "    def calculate_overall_metrics(self, conf_matrix, unique_labels):\n",
        "        # Initialize sums for macro-averaged metrics\n",
        "        sum_precision = 0\n",
        "        sum_recall = 0\n",
        "        sum_f1 = 0\n",
        "\n",
        "        for i in range(len(unique_labels)):\n",
        "            TP = conf_matrix[i, i]\n",
        "            FP = conf_matrix[:, i].sum() - TP\n",
        "            FN = conf_matrix[i, :].sum() - TP\n",
        "\n",
        "            Precision = TP / (TP + FP) if (TP + FP) != 0 else 0\n",
        "            Recall = TP / (TP + FN) if (TP + FN) != 0 else 0\n",
        "            F1_score = 2 * (Precision * Recall) / (Precision + Recall) if (Precision + Recall) != 0 else 0\n",
        "\n",
        "            sum_precision += Precision\n",
        "            sum_recall += Recall\n",
        "            sum_f1 += F1_score\n",
        "\n",
        "        # Calculate macro-averaged metrics\n",
        "        macro_precision = sum_precision / len(unique_labels)\n",
        "        macro_recall = sum_recall / len(unique_labels)\n",
        "        macro_f1 = sum_f1 / len(unique_labels)\n",
        "\n",
        "        # Calculate accuracy\n",
        "        accuracy = np.diag(conf_matrix).sum() / conf_matrix.sum()\n",
        "\n",
        "        return {\n",
        "            \"Accuracy\": accuracy,\n",
        "            \"Macro Precision\": macro_precision,\n",
        "            \"Macro Recall\": macro_recall,\n",
        "            \"Macro F1 Score\": macro_f1\n",
        "        }\n"
      ]
    },
    {
      "cell_type": "code",
      "execution_count": 129,
      "metadata": {
        "id": "zjzCDTlAJbQa"
      },
      "outputs": [],
      "source": [
        "model_gnb = GaussianNaiveBayes(X_train_pca, y_train_raw)\n",
        "model_gnb.fit()"
      ]
    },
    {
      "cell_type": "code",
      "source": [
        "predictions = model_gnb.predict(X_test_pca)"
      ],
      "metadata": {
        "id": "g4zHfbs7ddbO"
      },
      "execution_count": 130,
      "outputs": []
    },
    {
      "cell_type": "code",
      "source": [
        "# Evaluate\n",
        "gnb_metrics = model_gnb.compute_metrics(y_test_raw, predictions)\n",
        "\n",
        "# Print overall metrics\n",
        "for metric, value in gnb_metrics.items():\n",
        "    print(f\"{metric}: {value:.4f}\")"
      ],
      "metadata": {
        "id": "pETr8iM7eTfK",
        "colab": {
          "base_uri": "https://localhost:8080/"
        },
        "outputId": "1c372428-70a8-4d01-f1cd-7a1befe1c13e"
      },
      "execution_count": 131,
      "outputs": [
        {
          "output_type": "stream",
          "name": "stdout",
          "text": [
            "Accuracy: 0.8018\n",
            "Macro Precision: 0.8089\n",
            "Macro Recall: 0.7960\n",
            "Macro F1 Score: 0.7974\n"
          ]
        }
      ]
    },
    {
      "cell_type": "code",
      "source": [
        "import numpy as np\n",
        "from tqdm import tqdm\n",
        "\n",
        "class SoftmaxRegression:\n",
        "    def __init__(self, learning_rate=0.01, tolerance=1e-4, max_iteration=1000):\n",
        "        self.learning_rate = learning_rate\n",
        "        self.tolerance = tolerance\n",
        "        self.max_iteration = max_iteration\n",
        "\n",
        "    def softmax(self, z):\n",
        "        exp_z = np.exp(z - np.max(z, axis=1, keepdims=True))\n",
        "        return exp_z / np.sum(exp_z, axis=1, keepdims=True)\n",
        "\n",
        "    def cross_entropy_loss(self, X, y_encoded, probabilities):\n",
        "        m = X.shape[0]\n",
        "        loss = - (1 / m) * np.sum(y_encoded * np.log(probabilities))\n",
        "        return loss\n",
        "\n",
        "    def fit(self, X, y):\n",
        "        # One-hot encoding of y\n",
        "        self.classes = np.unique(y)\n",
        "        y_encoded = self.one_hot_encode(y)\n",
        "\n",
        "        # Initialize weights\n",
        "        self.w = np.zeros((X.shape[1], len(self.classes)))\n",
        "\n",
        "        # Gradient descent\n",
        "        for _ in tqdm(range(self.max_iteration)):\n",
        "            # Compute softmax probabilities\n",
        "            probabilities = self.softmax(X.dot(self.w))\n",
        "\n",
        "            # Compute gradient\n",
        "            grad = X.T.dot(probabilities - y_encoded) / X.shape[0]\n",
        "\n",
        "            # Update weights\n",
        "            self.w -= self.learning_rate * grad\n",
        "\n",
        "            # Check for convergence\n",
        "            if np.linalg.norm(grad) < self.tolerance:\n",
        "                break\n",
        "\n",
        "    def predict(self, X):\n",
        "        probabilities = self.softmax(X.dot(self.w))\n",
        "        return np.array([self.classes[i] for i in np.argmax(probabilities, axis=1)])\n",
        "\n",
        "    def one_hot_encode(self, y):\n",
        "    # Convert y to a numpy array if it's a Pandas DataFrame/Series\n",
        "        if isinstance(y, pd.DataFrame) or isinstance(y, pd.Series):\n",
        "            y = y.values\n",
        "\n",
        "        y = y.ravel()  # Flatten the array to make it 1D\n",
        "        y_encoded = np.zeros((y.size, len(self.classes)))\n",
        "        for i, class_ in enumerate(self.classes):\n",
        "            y_encoded[:, i] = (y == class_)\n",
        "        return y_encoded\n",
        "\n",
        "    def predict(self, X):\n",
        "        probabilities = self.softmax(X.dot(self.w))\n",
        "        return np.array([self.classes[i] for i in np.argmax(probabilities, axis=1)])\n",
        "\n",
        "    def compute_metrics(self, y_true, y_pred):\n",
        "        if isinstance(y_true, pd.DataFrame) or isinstance(y_true, pd.Series):\n",
        "            y_true = y_true.values\n",
        "        if isinstance(y_pred, pd.DataFrame) or isinstance(y_pred, pd.Series):\n",
        "            y_pred = y_pred.values\n",
        "\n",
        "        y_true = y_true.flatten()\n",
        "        y_pred = y_pred.flatten()\n",
        "\n",
        "        unique_labels = np.unique(np.concatenate([y_true, y_pred]))\n",
        "        conf_matrix = np.zeros((len(unique_labels), len(unique_labels)), dtype=int)\n",
        "        label_to_index = {label: index for index, label in enumerate(unique_labels)}\n",
        "\n",
        "        for true, pred in zip(y_true, y_pred):\n",
        "            true_index = label_to_index[true]\n",
        "            pred_index = label_to_index[pred]\n",
        "            conf_matrix[true_index, pred_index] += 1\n",
        "\n",
        "        return self.calculate_overall_metrics(conf_matrix, unique_labels)\n",
        "\n",
        "    def calculate_overall_metrics(self, conf_matrix, unique_labels):\n",
        "        sum_precision = 0\n",
        "        sum_recall = 0\n",
        "        sum_f1 = 0\n",
        "\n",
        "        for i in range(len(unique_labels)):\n",
        "            TP = conf_matrix[i, i]\n",
        "            FP = conf_matrix[:, i].sum() - TP\n",
        "            FN = conf_matrix[i, :].sum() - TP\n",
        "\n",
        "            Precision = TP / (TP + FP) if (TP + FP) != 0 else 0\n",
        "            Recall = TP / (TP + FN) if (TP + FN) != 0 else 0\n",
        "            F1_score = 2 * (Precision * Recall) / (Precision + Recall) if (Precision + Recall) != 0 else 0\n",
        "\n",
        "            sum_precision += Precision\n",
        "            sum_recall += Recall\n",
        "            sum_f1 += F1_score\n",
        "\n",
        "        macro_precision = sum_precision / len(unique_labels)\n",
        "        macro_recall = sum_recall / len(unique_labels)\n",
        "        macro_f1 = sum_f1 / len(unique_labels)\n",
        "        accuracy = np.diag(conf_matrix).sum() / conf_matrix.sum()\n",
        "\n",
        "        return {\n",
        "            \"Accuracy\": accuracy,\n",
        "            \"Macro Precision\": macro_precision,\n",
        "            \"Macro Recall\": macro_recall,\n",
        "            \"Macro F1 Score\": macro_f1\n",
        "        }"
      ],
      "metadata": {
        "id": "Oof55hlr1vTt"
      },
      "execution_count": 132,
      "outputs": []
    },
    {
      "cell_type": "code",
      "source": [
        "smr_model = SoftmaxRegression(learning_rate=0.01, tolerance=1e-4, max_iteration=1000)\n",
        "smr_model.fit(X_train_pca, y_train_raw)"
      ],
      "metadata": {
        "colab": {
          "base_uri": "https://localhost:8080/"
        },
        "id": "h3EUyV7i4WB5",
        "outputId": "5c046bca-a21f-4982-ba03-9d08f7c876e9"
      },
      "execution_count": 133,
      "outputs": [
        {
          "output_type": "stream",
          "name": "stderr",
          "text": [
            "100%|██████████| 1000/1000 [00:08<00:00, 114.95it/s]\n"
          ]
        }
      ]
    },
    {
      "cell_type": "code",
      "source": [
        "y_pred_smr = smr_model.predict(X_test_pca)\n",
        "metrics_smr = smr_model.compute_metrics(y_test_raw, y_pred_smr)\n",
        "print(metrics_smr)\n"
      ],
      "metadata": {
        "colab": {
          "base_uri": "https://localhost:8080/"
        },
        "id": "j7hyhiLMK3i4",
        "outputId": "d804d879-d371-4734-d37d-aa51f35cffa1"
      },
      "execution_count": 136,
      "outputs": [
        {
          "output_type": "stream",
          "name": "stdout",
          "text": [
            "{'Accuracy': 0.9426535459789617, 'Macro Precision': 0.9424782590110062, 'Macro Recall': 0.942143792737112, 'Macro F1 Score': 0.9422141985901069}\n"
          ]
        }
      ]
    },
    {
      "cell_type": "markdown",
      "source": [
        "## NN"
      ],
      "metadata": {
        "id": "FHsja19eCUw1"
      }
    },
    {
      "cell_type": "code",
      "source": [
        "import tensorflow as tf\n",
        "from tensorflow.keras.models import Sequential\n",
        "from tensorflow.keras.layers import Dense, Dropout\n",
        "from sklearn.preprocessing import StandardScaler\n",
        "from tensorflow.keras.utils import to_categorical\n",
        "from sklearn.metrics import classification_report, confusion_matrix\n",
        "from tensorflow.keras.utils import to_categorical\n",
        "\n",
        "# Correctly determine the number of unique classes\n",
        "num_classes = len(np.unique(y_train_raw))\n",
        "\n",
        "# Ensure class labels start from 0 (zero-indexing)\n",
        "# Adjust this as necessary based on your label format\n",
        "y_train_raw_zero_indexed = y_train_raw - y_train_raw.min()\n",
        "y_val_raw_zero_indexed = y_test_raw - y_test_raw.min()\n",
        "\n",
        "# Convert labels to one-hot encoding\n",
        "y_train_encoded = to_categorical(y_train_raw_zero_indexed, num_classes)\n",
        "y_val_encoded = to_categorical(y_val_raw_zero_indexed, num_classes)\n",
        "# Define the neural network model\n",
        "model = Sequential()\n",
        "model.add(Dense(64, input_shape=(X_train_pca.shape[1],), activation='relu'))\n",
        "model.add(Dropout(0.5))\n",
        "model.add(Dense(32, activation='relu'))\n",
        "model.add(Dropout(0.5))\n",
        "model.add(Dense(num_classes, activation='softmax'))  # Adjusted for multi-class classification\n",
        "\n",
        "# Compile the model\n",
        "model.compile(loss='categorical_crossentropy',  # Adjusted for multi-class\n",
        "              optimizer='adam',\n",
        "              metrics=['accuracy'])\n",
        "\n",
        "# Train the model\n",
        "model.fit(X_train_pca, y_train_encoded, epochs=10, batch_size=32)\n",
        "\n",
        "# Evaluate the model on test data\n",
        "y_pred = model.predict(X_test_pca)\n",
        "y_pred_classes = np.argmax(y_pred, axis=1)  # Convert probabilities to class labels\n",
        "\n",
        "# Print classification report and confusion matrix\n",
        "print(classification_report(y_test_raw, y_pred_classes))\n",
        "print(confusion_matrix(y_test_raw, y_pred_classes))\n"
      ],
      "metadata": {
        "colab": {
          "base_uri": "https://localhost:8080/"
        },
        "id": "_ewHkUMMCV9u",
        "outputId": "8992c818-02cf-43ca-ebdd-1a1bffb702bc"
      },
      "execution_count": 137,
      "outputs": [
        {
          "output_type": "stream",
          "name": "stdout",
          "text": [
            "Epoch 1/10\n",
            "230/230 [==============================] - 2s 3ms/step - loss: 1.6542 - accuracy: 0.4185\n",
            "Epoch 2/10\n",
            "230/230 [==============================] - 1s 4ms/step - loss: 0.8712 - accuracy: 0.6298\n",
            "Epoch 3/10\n",
            "230/230 [==============================] - 1s 3ms/step - loss: 0.6258 - accuracy: 0.7251\n",
            "Epoch 4/10\n",
            "230/230 [==============================] - 1s 3ms/step - loss: 0.4900 - accuracy: 0.7965\n",
            "Epoch 5/10\n",
            "230/230 [==============================] - 1s 2ms/step - loss: 0.4070 - accuracy: 0.8301\n",
            "Epoch 6/10\n",
            "230/230 [==============================] - 0s 2ms/step - loss: 0.3458 - accuracy: 0.8625\n",
            "Epoch 7/10\n",
            "230/230 [==============================] - 1s 2ms/step - loss: 0.2874 - accuracy: 0.8878\n",
            "Epoch 8/10\n",
            "230/230 [==============================] - 1s 2ms/step - loss: 0.2497 - accuracy: 0.9007\n",
            "Epoch 9/10\n",
            "230/230 [==============================] - 1s 2ms/step - loss: 0.2241 - accuracy: 0.9162\n",
            "Epoch 10/10\n",
            "230/230 [==============================] - 1s 2ms/step - loss: 0.2005 - accuracy: 0.9222\n",
            "93/93 [==============================] - 0s 2ms/step\n",
            "              precision    recall  f1-score   support\n",
            "\n",
            "           0       0.97      0.97      0.97       496\n",
            "           1       0.96      0.94      0.95       471\n",
            "           2       0.95      0.96      0.96       420\n",
            "           3       0.92      0.89      0.91       491\n",
            "           4       0.91      0.92      0.92       532\n",
            "           5       1.00      1.00      1.00       537\n",
            "\n",
            "    accuracy                           0.95      2947\n",
            "   macro avg       0.95      0.95      0.95      2947\n",
            "weighted avg       0.95      0.95      0.95      2947\n",
            "\n",
            "[[483   5   8   0   0   0]\n",
            " [ 13 443  15   0   0   0]\n",
            " [  2  13 405   0   0   0]\n",
            " [  0   2   0 439  49   1]\n",
            " [  0   0   0  40 492   0]\n",
            " [  0   0   0   0   0 537]]\n"
          ]
        }
      ]
    }
  ],
  "metadata": {
    "colab": {
      "provenance": []
    },
    "kernelspec": {
      "display_name": "Python 3",
      "name": "python3"
    },
    "language_info": {
      "name": "python"
    }
  },
  "nbformat": 4,
  "nbformat_minor": 0
}